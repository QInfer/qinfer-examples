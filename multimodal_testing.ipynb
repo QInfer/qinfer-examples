{
 "metadata": {
  "name": ""
 },
 "nbformat": 3,
 "nbformat_minor": 0,
 "worksheets": [
  {
   "cells": [
    {
     "cell_type": "heading",
     "level": 1,
     "metadata": {},
     "source": [
      "Multimodality and Resampling"
     ]
    },
    {
     "cell_type": "markdown",
     "metadata": {},
     "source": [
      "This notebook tests the robustness of modified Liu-West (MLW) resampling to multimodality in the posterior distribution. We use as a test the familiar model\n",
      "$$\n",
      "    \\Pr(0 | \\omega, t) = \\cos^2(\\omega t),\n",
      "$$\n",
      "exploiting that the likelihood function is *even* in $\\omega$ to produce posteriors that always have exactly two modes. Because this structure is not explicitly added to the resampling, but is easy to reason about analytically, it serves as a nice test case."
     ]
    },
    {
     "cell_type": "heading",
     "level": 2,
     "metadata": {},
     "source": [
      "Preamble"
     ]
    },
    {
     "cell_type": "markdown",
     "metadata": {},
     "source": [
      "As usual, we start by configuring division and enabling plotting support."
     ]
    },
    {
     "cell_type": "code",
     "collapsed": false,
     "input": [
      "from __future__ import division\n",
      "%pylab inline"
     ],
     "language": "python",
     "metadata": {},
     "outputs": [
      {
       "output_type": "stream",
       "stream": "stdout",
       "text": [
        "Populating the interactive namespace from numpy and matplotlib\n"
       ]
      }
     ],
     "prompt_number": 1
    },
    {
     "cell_type": "markdown",
     "metadata": {},
     "source": [
      "In order to view the incredibly verbose output from resampler debugging, it is helpful to point Python's logging functionality at a file instead of printing it inside the notebook. We use ``tempfile`` to pick a directory in a cross-platform way."
     ]
    },
    {
     "cell_type": "code",
     "collapsed": false,
     "input": [
      "import os, tempfile\n",
      "logfile = os.path.join(tempfile.gettempdir(), 'multimodal_testing.log')\n",
      "print \"Logging to {}.\".format(logfile)\n",
      "\n",
      "import logging\n",
      "logging.basicConfig(level=logging.DEBUG, filename=logfile)"
     ],
     "language": "python",
     "metadata": {},
     "outputs": [
      {
       "output_type": "stream",
       "stream": "stdout",
       "text": [
        "Logging to /tmp/multimodal_testing.log.\n"
       ]
      }
     ],
     "prompt_number": 55
    },
    {
     "cell_type": "markdown",
     "metadata": {},
     "source": [
      "Next, we import all the functionality from **QInfer** that we will need."
     ]
    },
    {
     "cell_type": "code",
     "collapsed": false,
     "input": [
      "from qinfer.abstract_model import Model\n",
      "from qinfer.test_models import SimplePrecessionModel\n",
      "from qinfer.derived_models import BinomialModel\n",
      "from qinfer.distributions import UniformDistribution\n",
      "from qinfer.smc import SMCUpdater\n",
      "from qinfer.resamplers import LiuWestResampler"
     ],
     "language": "python",
     "metadata": {},
     "outputs": [],
     "prompt_number": 61
    },
    {
     "cell_type": "heading",
     "level": 2,
     "metadata": {},
     "source": [
      "Model and Prior Definition"
     ]
    },
    {
     "cell_type": "markdown",
     "metadata": {},
     "source": [
      "We want the simple precession model $\\cos^2(\\omega t)$ to now extend over $\\omega \\in [-1, 1]$, so we redefine the ``are_models_valid`` method to allow for negative $\\omega$."
     ]
    },
    {
     "cell_type": "code",
     "collapsed": false,
     "input": [
      "class NotQuiteSoSimplePrecessionModel(SimplePrecessionModel):\n",
      "    @staticmethod\n",
      "    def are_models_valid(modelparams):\n",
      "        return (np.abs(modelparams) <= 1)[:, 0]"
     ],
     "language": "python",
     "metadata": {},
     "outputs": [],
     "prompt_number": 57
    },
    {
     "cell_type": "markdown",
     "metadata": {},
     "source": [
      "Having done so, we now set a prior that explicitly includes the degeneracy in the likelihood."
     ]
    },
    {
     "cell_type": "code",
     "collapsed": false,
     "input": [
      "model = NotQuiteSoSimplePrecessionModel()\n",
      "prior = UniformDistribution([-1, 1])"
     ],
     "language": "python",
     "metadata": {},
     "outputs": [],
     "prompt_number": 5
    },
    {
     "cell_type": "code",
     "collapsed": false,
     "input": [
      "def trial(a=0.98, h=None, track=True):\n",
      "    true_params = prior.sample()\n",
      "    updater = SMCUpdater(model, 1000, prior, resampler=LiuWestResampler(a=a, h=h, debug=True), track_resampling_divergence=track, debug_resampling=True)\n",
      "    \n",
      "    for idx_exp in xrange(100):\n",
      "        exp = np.array([(9/8)**idx_exp], dtype=model.expparams_dtype)\n",
      "        datum = model.simulate_experiment(true_params, exp)\n",
      "        \n",
      "        updater.update(datum, exp)\n",
      "        \n",
      "    # Since this model is always degenerate about the origin, take the mean\n",
      "    # not of the original particles, but of the absolute value of the particles.\n",
      "    updater.particle_locations = np.abs(updater.particle_locations)\n",
      "        \n",
      "    if track:\n",
      "        return [true_params, updater.est_mean()], np.mean(updater.resampling_divergences)\n",
      "    else:\n",
      "        return [true_params, updater.est_mean()]"
     ],
     "language": "python",
     "metadata": {},
     "outputs": [],
     "prompt_number": 41
    },
    {
     "cell_type": "code",
     "collapsed": false,
     "input": [
      "def corr(a=0.98, h=None, track=True, n_trials=100):\n",
      "    trues = np.zeros((n_trials,))\n",
      "    ests  = np.zeros((n_trials,))\n",
      "    \n",
      "    if track:\n",
      "        divs = np.zeros((n_trials, ))\n",
      "    \n",
      "    for idx_trial in xrange(n_trials):\n",
      "        if track:\n",
      "            print idx_trial,\n",
      "            (true, est), div = trial(a, h, track)\n",
      "        else:\n",
      "            true, est = trial(a, h, track)\n",
      "        trues[idx_trial] = true\n",
      "        ests[idx_trial] = est\n",
      "        if track:\n",
      "            divs[idx_trial] = div\n",
      "    \n",
      "    if track:\n",
      "        return trues, ests, divs\n",
      "    else:\n",
      "        return trues, ests"
     ],
     "language": "python",
     "metadata": {},
     "outputs": [],
     "prompt_number": 42
    },
    {
     "cell_type": "code",
     "collapsed": false,
     "input": [
      "trues, ests = corr(1, 0.02, False, 100)"
     ],
     "language": "python",
     "metadata": {},
     "outputs": [],
     "prompt_number": 49
    },
    {
     "cell_type": "code",
     "collapsed": false,
     "input": [
      "bias = np.mean(np.abs(trues) - np.abs(ests))\n",
      "risk = np.mean(np.abs(np.abs(trues) - np.abs(ests)))\n",
      "print bias, risk"
     ],
     "language": "python",
     "metadata": {},
     "outputs": [
      {
       "output_type": "stream",
       "stream": "stdout",
       "text": [
        "0.0102927348955 0.0161880129866\n"
       ]
      }
     ],
     "prompt_number": 50
    },
    {
     "cell_type": "code",
     "collapsed": false,
     "input": [
      "plot(np.abs(trues), ests, 'k.')\n",
      "xlabel('true')\n",
      "ylabel('estimated')\n",
      "xlim((0, 1))\n",
      "ylim((0, 1))"
     ],
     "language": "python",
     "metadata": {},
     "outputs": [
      {
       "metadata": {},
       "output_type": "pyout",
       "prompt_number": 51,
       "text": [
        "(0, 1)"
       ]
      },
      {
       "metadata": {},
       "output_type": "display_data",
       "png": "[encoded data removed]",
       "text": [
        "<matplotlib.figure.Figure at 0x3638d90>"
       ]
      }
     ],
     "prompt_number": 51
    },
    {
     "cell_type": "code",
     "collapsed": false,
     "input": [
      "trues, ests = corr(0.98, None, False, 100)\n",
      "bias = np.mean(np.abs(trues) - np.abs(ests))\n",
      "print bias"
     ],
     "language": "python",
     "metadata": {},
     "outputs": [
      {
       "output_type": "stream",
       "stream": "stdout",
       "text": [
        "0.257523764664\n"
       ]
      }
     ],
     "prompt_number": 52
    },
    {
     "cell_type": "code",
     "collapsed": false,
     "input": [
      "plot(np.abs(trues), ests, 'k.')\n",
      "xlabel('true')\n",
      "ylabel('estimated')\n",
      "xlim((0, 1))\n",
      "ylim((0, 1))"
     ],
     "language": "python",
     "metadata": {},
     "outputs": [
      {
       "metadata": {},
       "output_type": "pyout",
       "prompt_number": 54,
       "text": [
        "(0, 1)"
       ]
      },
      {
       "metadata": {},
       "output_type": "display_data",
       "png": "[encoded data removed]",
       "text": [
        "<matplotlib.figure.Figure at 0x416ccd0>"
       ]
      }
     ],
     "prompt_number": 54
    },
    {
     "cell_type": "heading",
     "level": 2,
     "metadata": {},
     "source": [
      "Mutliparameter Models"
     ]
    },
    {
     "cell_type": "markdown",
     "metadata": {},
     "source": [
      "We also want to try with a multicos model, since that model admits a degeneracy between parameters that is broken by experimental variety. To arrive at a good estimate, then, a resampler must preserve unusual posterior structures that arise in the approach to a unimodal final posterior.\n",
      "\n",
      "It's worth noting here that the traditional LW parameters work quite well for a better experimental protocol (choosing lots of varied experiments), but that this protocol may not always be available. Thus, MLW is a resource here to compensate for experimental restrictions."
     ]
    },
    {
     "cell_type": "code",
     "collapsed": false,
     "input": [
      "class MultiCosModel(Model):\n",
      "    \n",
      "    def __init__(self, n_terms=2):\n",
      "        self._n_terms = n_terms\n",
      "        super(MultiCosModel, self).__init__()\n",
      "    \n",
      "    @property\n",
      "    def n_modelparams(self):\n",
      "        return self._n_terms\n",
      "    \n",
      "    @property\n",
      "    def is_n_outcomes_constant(self):\n",
      "        return True\n",
      "    def n_outcomes(self, expparams):\n",
      "        return 2\n",
      "    \n",
      "    def are_models_valid(self, modelparams):\n",
      "        return np.all(np.logical_and(modelparams > 0, modelparams <= 1), axis=1)\n",
      "    \n",
      "    @property\n",
      "    def expparams_dtype(self):\n",
      "        return [('ts', '{}float'.format(self._n_terms))]\n",
      "    \n",
      "    def likelihood(self, outcomes, modelparams, expparams):\n",
      "        # We first call the superclass method, which basically\n",
      "        # just makes sure that call count diagnostics are properly\n",
      "        # logged.\n",
      "        super(MultiCosModel, self).likelihood(outcomes, modelparams, expparams)\n",
      "        \n",
      "        # Next, since we have a two-outcome model, everything is defined by\n",
      "        # Pr(0 | modelparams; expparams), so we find the probability of 0\n",
      "        # for each model and each experiment.\n",
      "        #\n",
      "        # We do so by taking a product along the modelparam index (len 2,\n",
      "        # indicating omega_1 or omega_2), then squaring the result.\n",
      "        pr0 = np.prod(\n",
      "            np.cos(\n",
      "                # shape (n_models, 1, 2)\n",
      "                modelparams[:, np.newaxis, :] *\n",
      "                # shape (n_experiments, 2)\n",
      "                expparams['ts']\n",
      "            ), # <- broadcasts to shape (n_models, n_experiments, 2).\n",
      "            axis=2 # <- product over the final index (len 2)\n",
      "        ) ** 2 # square each element\n",
      "        \n",
      "        # Now we use pr0_to_likelihood_array to turn this two index array\n",
      "        # above into the form expected by SMCUpdater and other consumers\n",
      "        # of likelihood().\n",
      "        return Model.pr0_to_likelihood_array(outcomes, pr0)"
     ],
     "language": "python",
     "metadata": {},
     "outputs": [],
     "prompt_number": 160
    },
    {
     "cell_type": "code",
     "collapsed": false,
     "input": [
      "mp_model = BinomialModel(MultiCosModel(3))\n",
      "mp_prior = UniformDistribution([[0, 1]]*3)"
     ],
     "language": "python",
     "metadata": {},
     "outputs": [],
     "prompt_number": 161
    },
    {
     "cell_type": "code",
     "collapsed": false,
     "input": [
      "def multicos_trial(a, h, n_exps=200):\n",
      "    true = mp_prior.sample()\n",
      "    mp_updater = SMCUpdater(mp_model, 2000, mp_prior,\n",
      "        resampler=LiuWestResampler(a=a, h=h, debug=True),\n",
      "        debug_resampling=True\n",
      "    )\n",
      "    \n",
      "    while True:\n",
      "        exp = np.array([(20 * np.pi * np.random.random(3), 40)], dtype=mp_model.expparams_dtype)\n",
      "        # To test the resampler, we take data according to one experiment design until it has to resample, then switch.\n",
      "        # Since the MLW resampler works quite well, we need to set an upper limit.\n",
      "        for idx in xrange(500):\n",
      "            datum = mp_model.simulate_experiment(true, exp)\n",
      "            mp_updater.update(datum, exp)\n",
      "            \n",
      "            if len(mp_updater.data_record) >= n_exps:\n",
      "                return true, mp_updater.est_mean()\n",
      "            \n",
      "            if mp_updater.just_resampled and idx >= 100:\n",
      "                break\n",
      "            "
     ],
     "language": "python",
     "metadata": {},
     "outputs": [],
     "prompt_number": 180
    },
    {
     "cell_type": "code",
     "collapsed": false,
     "input": [
      "def nanmean(arr):\n",
      "    return np.nansum(arr) / np.sum(np.isfinite(arr))"
     ],
     "language": "python",
     "metadata": {},
     "outputs": [],
     "prompt_number": 181
    },
    {
     "cell_type": "code",
     "collapsed": false,
     "input": [
      "def mp_risk(a, h, n_trials=10, n_exps=200):\n",
      "    mp_errors = np.empty((n_trials,))\n",
      "    for idx_trial in xrange(n_trials):\n",
      "        true, est = multicos_trial(a, h, n_exps)\n",
      "        mp_errors[idx_trial] = np.sum((true - est)**2)\n",
      "        \n",
      "    n_nan = np.sum(np.isnan(mp_errors))\n",
      "    if n_nan > 0:\n",
      "        print \"{} NaNs observed.\".format(n_nan)\n",
      "        \n",
      "    return nanmean(mp_errors)"
     ],
     "language": "python",
     "metadata": {},
     "outputs": [],
     "prompt_number": 182
    },
    {
     "cell_type": "code",
     "collapsed": false,
     "input": [
      "print mp_risk(1, 0.01, 25, 600)\n",
      "print mp_risk(0.98, None, 25, 600)"
     ],
     "language": "python",
     "metadata": {},
     "outputs": [
      {
       "output_type": "stream",
       "stream": "stderr",
       "text": [
        "/usr/lib/python2.7/site-packages/qinfer/smc.py:228: ApproximationWarning: Extremely small n_ess encountered (5.67487132761). Resampling is likely to fail. Consider adding particles, or resampling more often.\n",
        "  ApproximationWarning\n",
        "/usr/lib/python2.7/site-packages/qinfer/smc.py:228: ApproximationWarning: Extremely small n_ess encountered (8.36267442448). Resampling is likely to fail. Consider adding particles, or resampling more often.\n",
        "  ApproximationWarning\n"
       ]
      },
      {
       "output_type": "stream",
       "stream": "stderr",
       "text": [
        "/usr/lib/python2.7/site-packages/qinfer/smc.py:228: ApproximationWarning: Extremely small n_ess encountered (3.32659928482). Resampling is likely to fail. Consider adding particles, or resampling more often.\n",
        "  ApproximationWarning\n",
        "/usr/lib/python2.7/site-packages/qinfer/smc.py:228: ApproximationWarning: Extremely small n_ess encountered (3.73038752739). Resampling is likely to fail. Consider adding particles, or resampling more often.\n",
        "  ApproximationWarning\n"
       ]
      },
      {
       "output_type": "stream",
       "stream": "stderr",
       "text": [
        "/usr/lib/python2.7/site-packages/qinfer/smc.py:228: ApproximationWarning: Extremely small n_ess encountered (8.54272877222). Resampling is likely to fail. Consider adding particles, or resampling more often.\n",
        "  ApproximationWarning\n",
        "/usr/lib/python2.7/site-packages/qinfer/smc.py:228: ApproximationWarning: Extremely small n_ess encountered (4.03095116488). Resampling is likely to fail. Consider adding particles, or resampling more often.\n",
        "  ApproximationWarning\n"
       ]
      },
      {
       "output_type": "stream",
       "stream": "stdout",
       "text": [
        "1 NaNs observed.\n",
        "0.345962915808\n",
        "3 NaNs observed."
       ]
      },
      {
       "output_type": "stream",
       "stream": "stdout",
       "text": [
        "\n",
        "0.44069194744\n"
       ]
      },
      {
       "output_type": "stream",
       "stream": "stderr",
       "text": [
        "/usr/lib/python2.7/site-packages/qinfer/smc.py:228: ApproximationWarning: Extremely small n_ess encountered (3.35181765289). Resampling is likely to fail. Consider adding particles, or resampling more often.\n",
        "  ApproximationWarning\n"
       ]
      }
     ],
     "prompt_number": 187
    },
    {
     "cell_type": "code",
     "collapsed": false,
     "input": [],
     "language": "python",
     "metadata": {},
     "outputs": []
    }
   ],
   "metadata": {}
  }
 ]
}