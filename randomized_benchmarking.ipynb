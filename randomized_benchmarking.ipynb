{
 "cells": [
  {
   "cell_type": "markdown",
   "metadata": {},
   "source": [
    "# Estimating Randomized Benchmarking Fidelities #"
   ]
  },
  {
   "cell_type": "markdown",
   "metadata": {},
   "source": [
    "## Introduction ##"
   ]
  },
  {
   "cell_type": "markdown",
   "metadata": {},
   "source": [
    "This Notebook demonstrates how to use QInfer to the fidelity of a gateset using experimental data from randomized benchmarking."
   ]
  },
  {
   "cell_type": "markdown",
   "metadata": {},
   "source": [
    "## Setup ##"
   ]
  },
  {
   "cell_type": "markdown",
   "metadata": {},
   "source": [
    "First, to make sure that this example works in both Python 2 and 3, we tell Python 2 to use 3-style division and printing."
   ]
  },
  {
   "cell_type": "code",
   "execution_count": 1,
   "metadata": {
    "collapsed": true
   },
   "outputs": [],
   "source": [
    "from __future__ import division, print_function"
   ]
  },
  {
   "cell_type": "markdown",
   "metadata": {},
   "source": [
    "Next, we import QInfer itself, along with NumPy and Matplotlib."
   ]
  },
  {
   "cell_type": "code",
   "execution_count": 2,
   "metadata": {
    "collapsed": false
   },
   "outputs": [
    {
     "name": "stderr",
     "output_type": "stream",
     "text": [
      "/home/cgranade/anaconda/envs/qinfer-binder/lib/python3.5/site-packages/qinfer/metrics.py:51: UserWarning: Could not import scikit-learn. Some features may not work.\n",
      "  warnings.warn(\"Could not import scikit-learn. Some features may not work.\")\n",
      "/home/cgranade/anaconda/envs/qinfer-binder/lib/python3.5/site-packages/matplotlib/__init__.py:872: UserWarning: axes.color_cycle is deprecated and replaced with axes.prop_cycle; please use the latter.\n",
      "  warnings.warn(self.msg_depr % (key, alt_key))\n",
      "/home/cgranade/anaconda/envs/qinfer-binder/lib/python3.5/site-packages/IPython/parallel.py:13: ShimWarning: The `IPython.parallel` package has been deprecated. You should import from ipyparallel instead.\n",
      "  \"You should import from ipyparallel instead.\", ShimWarning)\n",
      "/home/cgranade/anaconda/envs/qinfer-binder/lib/python3.5/site-packages/qinfer/parallel.py:53: UserWarning: Could not import IPython parallel. Parallelization support will be disabled.\n",
      "  \"Could not import IPython parallel. \"\n"
     ]
    }
   ],
   "source": [
    "import qinfer as qi\n",
    "import numpy as np\n",
    "import matplotlib.pyplot as plt"
   ]
  },
  {
   "cell_type": "markdown",
   "metadata": {},
   "source": [
    "For pretty-printing later, we'll need to borrow some unicode compatibility from ``future``, so that this notebook also works under Python 2. We'll also import ``reduce`` in a 2/3 compatible manner."
   ]
  },
  {
   "cell_type": "code",
   "execution_count": 3,
   "metadata": {
    "collapsed": false
   },
   "outputs": [],
   "source": [
    "from future.utils import python_2_unicode_compatible\n",
    "from builtins import str\n",
    "from functools import reduce"
   ]
  },
  {
   "cell_type": "markdown",
   "metadata": {},
   "source": [
    "We finish by configuring Matplotlib for plotting in Jupyter Notebook."
   ]
  },
  {
   "cell_type": "code",
   "execution_count": 4,
   "metadata": {
    "collapsed": true
   },
   "outputs": [],
   "source": [
    "%matplotlib inline\n",
    "try: plt.style.use('ggplot')\n",
    "except: pass"
   ]
  },
  {
   "cell_type": "markdown",
   "metadata": {},
   "source": [
    "## Randomized Benchmarking ##"
   ]
  },
  {
   "cell_type": "markdown",
   "metadata": {},
   "source": [
    "In a randomized benchmarking (RB) experiment, one chooses a random sequence of gates from a 2-design (for example, the Clifford group), then inverts the ideal action of the sequence and measures if the inversion was successful.\n",
    "Magesan *et al.* [10/tfz](https://dx.doi.org/10/tfz) showed that this results in an exponentially decay in the length $m$ of each sequence,\n",
    "$$\n",
    "    A p^m + B,\n",
    "$$\n",
    "where $p$ is related to the the average fidelity $F$ of the 2-design used by $F = 1 - (1 - p) (d - 1) / d$ for a $d$-dimensional system, and where $A$ and $B$ are nuisance parameters. We will give a more precise definition later, and will show a numerical example of how this model arises. For now, though, we will synthesize some data by assuming the correctness of the model."
   ]
  },
  {
   "cell_type": "code",
   "execution_count": 5,
   "metadata": {
    "collapsed": true
   },
   "outputs": [],
   "source": [
    "p = 0.995\n",
    "A = 0.5\n",
    "B = 0.5"
   ]
  },
  {
   "cell_type": "code",
   "execution_count": 6,
   "metadata": {
    "collapsed": false
   },
   "outputs": [],
   "source": [
    "ms = np.linspace(1, 800, 201).astype(int)\n",
    "signal = A * p ** ms + B"
   ]
  },
  {
   "cell_type": "code",
   "execution_count": 7,
   "metadata": {
    "collapsed": false
   },
   "outputs": [],
   "source": [
    "n_shots = 25\n",
    "counts = np.random.binomial(p=signal, n=n_shots)"
   ]
  },
  {
   "cell_type": "code",
   "execution_count": 8,
   "metadata": {
    "collapsed": false
   },
   "outputs": [
    {
     "data": {
      "text/plain": [
       "<matplotlib.legend.Legend at 0x7fa6a4f0ae48>"
      ]
     },
     "execution_count": 8,
     "metadata": {},
     "output_type": "execute_result"
    },
    {
     "data": {
      "image/png": "[encoded data removed]",
      "text/plain": [
       "<matplotlib.figure.Figure at 0x7fa6a724b9e8>"
      ]
     },
     "metadata": {},
     "output_type": "display_data"
    }
   ],
   "source": [
    "plt.plot(ms, signal, label='Signal')\n",
    "plt.plot(ms, counts / n_shots, 'x', label='Data')\n",
    "plt.ylim(ymax=1)\n",
    "plt.legend()"
   ]
  },
  {
   "cell_type": "markdown",
   "metadata": {},
   "source": [
    "## Analyzing RB Data ##"
   ]
  },
  {
   "cell_type": "markdown",
   "metadata": {},
   "source": [
    "We can now pack our synthetic data up for analysis by **QInfer**."
   ]
  },
  {
   "cell_type": "code",
   "execution_count": 9,
   "metadata": {
    "collapsed": true
   },
   "outputs": [],
   "source": [
    "data = np.column_stack([counts, ms, n_shots * np.ones_like(counts)])"
   ]
  },
  {
   "cell_type": "code",
   "execution_count": 10,
   "metadata": {
    "collapsed": false
   },
   "outputs": [
    {
     "name": "stdout",
     "output_type": "stream",
     "text": [
      "Estimated p: 0.9925 ± 0.0020\n"
     ]
    }
   ],
   "source": [
    "mean, cov, extra = qi.simple_est_rb(data, return_all=True, n_particles=12000)\n",
    "print(\"Estimated p: {:0.4f} ± {:0.4f}\".format(mean[0], np.sqrt(cov[0, 0])))"
   ]
  },
  {
   "cell_type": "code",
   "execution_count": 11,
   "metadata": {
    "collapsed": false
   },
   "outputs": [
    {
     "data": {
      "image/png": "[encoded data removed]",
      "text/plain": [
       "<matplotlib.figure.Figure at 0x7fa6a4999898>"
      ]
     },
     "metadata": {},
     "output_type": "display_data"
    }
   ],
   "source": [
    "extra['updater'].plot_posterior_marginal(range_max=1)\n",
    "plt.xlim(xmax=1)\n",
    "ylim = plt.ylim(ymin=0)\n",
    "plt.vlines(p, *ylim)\n",
    "plt.ylim(*ylim);"
   ]
  },
  {
   "cell_type": "markdown",
   "metadata": {},
   "source": [
    "Note that in analyzing, we have assumed that the true value of $p$ can be anything in the range $[0, 1]$, such that this will often underestimate the true fidelity. Including even a very modest assumption such as $p\\ge 0.8$ can help dramatically."
   ]
  },
  {
   "cell_type": "code",
   "execution_count": 12,
   "metadata": {
    "collapsed": false
   },
   "outputs": [
    {
     "name": "stdout",
     "output_type": "stream",
     "text": [
      "Estimated p: 0.9958 ± 0.0010\n"
     ]
    }
   ],
   "source": [
    "mean, cov, extra = qi.simple_est_rb(data, return_all=True, n_particles=12000, p_min=0.8)\n",
    "print(\"Estimated p: {:0.4f} ± {:0.4f}\".format(mean[0], np.sqrt(cov[0, 0])))"
   ]
  },
  {
   "cell_type": "code",
   "execution_count": 13,
   "metadata": {
    "collapsed": false
   },
   "outputs": [
    {
     "data": {
      "image/png": "[encoded data removed]",
      "text/plain": [
       "<matplotlib.figure.Figure at 0x7fa6d57081d0>"
      ]
     },
     "metadata": {},
     "output_type": "display_data"
    }
   ],
   "source": [
    "extra['updater'].plot_posterior_marginal(range_max=1)\n",
    "plt.xlim(xmax=1)\n",
    "ylim = plt.ylim(ymin=0)\n",
    "plt.vlines(p, *ylim)\n",
    "plt.ylim(*ylim);"
   ]
  },
  {
   "cell_type": "code",
   "execution_count": 14,
   "metadata": {
    "collapsed": false
   },
   "outputs": [
    {
     "data": {
      "image/png": "[encoded data removed]",
      "text/plain": [
       "<matplotlib.figure.Figure at 0x7fa6a724b7b8>"
      ]
     },
     "metadata": {},
     "output_type": "display_data"
    }
   ],
   "source": [
    "extra['updater'].plot_covariance()"
   ]
  },
  {
   "cell_type": "code",
   "execution_count": 15,
   "metadata": {
    "collapsed": false
   },
   "outputs": [
    {
     "data": {
      "text/html": [
       "\n",
       "        <strong>SMCUpdater</strong> for model of type <strong>BinomialModel</strong> (based on <strong>RandomizedBenchmarkingModel</strong>)<strong></strong>:\n",
       "        <table>\n",
       "            <caption>Current estimated parameters</caption>\n",
       "            <thead>\n",
       "                <tr>\n",
       "                    <td>$p$</td>\n",
       "<td>$A$</td>\n",
       "<td>$B$</td>\n",
       "                </tr>\n",
       "            </thead>\n",
       "            <tbody>\n",
       "                <tr>\n",
       "                    <td>$1.00 \\pm 0.00$</td>\n",
       "<td>$0.5 \\pm 0.0$</td>\n",
       "<td>$0.5 \\pm 0.0$</td>\n",
       "                </tr>\n",
       "            </tbody>\n",
       "        </table>\n",
       "        <em>Resample count:</em> 12\n",
       "        "
      ],
      "text/plain": [
       "<qinfer.smc.SMCUpdater at 0x7fa6a49999b0>"
      ]
     },
     "execution_count": 15,
     "metadata": {},
     "output_type": "execute_result"
    }
   ],
   "source": [
    "extra['updater']"
   ]
  },
  {
   "cell_type": "markdown",
   "metadata": {},
   "source": [
    "## [Advanced] RB With Gate-Level Simulation ##"
   ]
  },
  {
   "cell_type": "markdown",
   "metadata": {},
   "source": [
    "We can also synthesize data by simulating gates, instead of assuming the correctness of the Magesan *et al.* model *a priori*. We will do so here using QuTiP. Let's start by modeling each gate $S_i$ as the ideal unitary followed by a gate-independent noise channel, $S_i = \\Lambda U_i$. We will take $\\Lambda = e^{-0.08i \\sigma_x}$ to demonstrate that the RB model arises even when the noise is purely unitary, so long as the noise remains gate- and time-independent."
   ]
  },
  {
   "cell_type": "code",
   "execution_count": 16,
   "metadata": {
    "collapsed": true
   },
   "outputs": [],
   "source": [
    "import qutip as qt\n",
    "from operator import mul"
   ]
  },
  {
   "cell_type": "code",
   "execution_count": 17,
   "metadata": {
    "collapsed": false
   },
   "outputs": [
    {
     "data": {
      "text/latex": [
       "Quantum object: dims = [[[2], [2]], [[2], [2]]], shape = [4, 4], type = super, isherm = False\\begin{equation*}\\left(\\begin{array}{*{11}c}0.994 & -0.080j & 0.080j & 0.006\\\\-0.080j & 0.994 & 0.006 & 0.080j\\\\0.080j & 0.006 & 0.994 & -0.080j\\\\0.006 & 0.080j & -0.080j & 0.994\\\\\\end{array}\\right)\\end{equation*}"
      ],
      "text/plain": [
       "Quantum object: dims = [[[2], [2]], [[2], [2]]], shape = [4, 4], type = super, isherm = False\n",
       "Qobj data =\n",
       "[[ 0.99361364+0.j         0.00000000-0.0796591j  0.00000000+0.0796591j\n",
       "   0.00638636+0.j       ]\n",
       " [ 0.00000000-0.0796591j  0.99361364+0.j         0.00638636+0.j\n",
       "   0.00000000+0.0796591j]\n",
       " [ 0.00000000+0.0796591j  0.00638636+0.j         0.99361364+0.j\n",
       "   0.00000000-0.0796591j]\n",
       " [ 0.00638636+0.j         0.00000000+0.0796591j  0.00000000-0.0796591j\n",
       "   0.99361364+0.j       ]]"
      ]
     },
     "execution_count": 17,
     "metadata": {},
     "output_type": "execute_result"
    }
   ],
   "source": [
    "lambda_ = qt.to_super((-1j * 0.08 * qt.sigmax()).expm())\n",
    "lambda_"
   ]
  },
  {
   "cell_type": "markdown",
   "metadata": {},
   "source": [
    "The value of $p$ for this gate then serves as the true value that we are attempting to learn:"
   ]
  },
  {
   "cell_type": "code",
   "execution_count": 18,
   "metadata": {
    "collapsed": false
   },
   "outputs": [
    {
     "data": {
      "text/plain": [
       "0.99148485558375188"
      ]
     },
     "execution_count": 18,
     "metadata": {},
     "output_type": "execute_result"
    }
   ],
   "source": [
    "qi.rb.p(qt.average_gate_fidelity(lambda_))"
   ]
  },
  {
   "cell_type": "markdown",
   "metadata": {},
   "source": [
    "For simplicity, we'll take the preparation and measurement to be perfect— because this assumption is represented as a pair of QuTiP Qobj instances, it's easy to change. "
   ]
  },
  {
   "cell_type": "code",
   "execution_count": 19,
   "metadata": {
    "collapsed": false
   },
   "outputs": [],
   "source": [
    "rho = qt.ket2dm(qt.basis(2, 0))\n",
    "meas = rho"
   ]
  },
  {
   "cell_type": "markdown",
   "metadata": {},
   "source": [
    "For standard randomized benchmarking, however, we need to do a bit more work, since the ideal action of each sequence must be the identity. In particular, we need to be able to quickly find which gate we need to add to the end of each sequence to invert the previous gates.\n",
    "\n",
    "To do so, we will lean heavily on the presentation of the Clifford group used in the [**newsynth**](http://hackage.haskell.org/package/newsynth-0.3.0.2) Haskell package by Ross and Selinger."
   ]
  },
  {
   "cell_type": "markdown",
   "metadata": {},
   "source": [
    "### Clifford Presentation as $\\mathbb{Z}_3 \\times \\mathbb{Z}_2 \\times \\mathbb{Z}_4 \\times \\mathbb{Z}_8$ ###"
   ]
  },
  {
   "cell_type": "code",
   "execution_count": 20,
   "metadata": {
    "collapsed": true
   },
   "outputs": [],
   "source": [
    "from itertools import product"
   ]
  },
  {
   "cell_type": "markdown",
   "metadata": {},
   "source": [
    "Following the **newsynth** approach, we will represent each single-qubit Clifford gate $U$ by a tuple of integers $(i, j, k, l)$ such that\n",
    "$$\n",
    "    (i, j, k, l) \\mapsto \\omega^l E^i X^j S^k,\n",
    "$$\n",
    "where $S = \\operatorname{diag}(1, i)$, $X = \\sigma_x = \\left(\\begin{matrix}0&1\\\\1&0\\end{matrix}\\right)$, $\\omega = e^{2 \\pi i /\n",
    "8}$, $H = \\left(\\begin{matrix}1&1\\\\1&-1\\end{matrix}\\right) / \\sqrt{2}$ is the Hadamard gate, and where $E = H S^3 \\omega^3$. This is a convienent presentation, as $\\omega^8 = 1$ and $E^3 = X^2 = S^4 = \\mathbb{1}$, such that each element of $\\mathbb{Z}_3 \\times \\mathbb{Z}_2 \\times \\mathbb{Z}_4 \\times \\mathbb{Z}_8$ represents exactly one single-qubit Clifford gate. This in turn makes it very convienent to randomly select Clifford group elements without having to worry that we have double-counted any gates due to our presentation."
   ]
  },
  {
   "cell_type": "code",
   "execution_count": 21,
   "metadata": {
    "collapsed": true
   },
   "outputs": [],
   "source": [
    "w = np.exp(1j * 2 * np.pi / 8)\n",
    "H = qt.snot()\n",
    "\n",
    "X = qt.sigmax()\n",
    "S = qt.phasegate(np.pi / 2)\n",
    "E = H * (S ** 3) * w ** 3"
   ]
  },
  {
   "cell_type": "markdown",
   "metadata": {},
   "source": [
    "We'll port the **newsynth** presentation to Python by subclassing ``tuple`` with methods that implement multiplication and inversion, and that return an ordinary QuTiP ``Qobj`` representing each gate. These methods will depend on three lookup tables that represent the commutation relatons between the generators $E$, $X$ and $S$. First, we implement the **newsynth** table $(k, j) \\mapsto (k', l')$ such that $X^j S^k = S^{k'} X^j \\omega^{l'}$. This table will let us commute $X$ past $S$ in products."
   ]
  },
  {
   "cell_type": "code",
   "execution_count": 22,
   "metadata": {
    "collapsed": true
   },
   "outputs": [],
   "source": [
    "CLIFFORD_SX = {\n",
    "    (0, 0): (0,0),\n",
    "    (0, 1): (0,0),\n",
    "    (1, 0): (1,0),\n",
    "    (1, 1): (3,2),\n",
    "    (2, 0): (2,0),\n",
    "    (2, 1): (2,4),\n",
    "    (3, 0): (3,0),\n",
    "    (3, 1): (1,6),\n",
    "}"
   ]
  },
  {
   "cell_type": "code",
   "execution_count": 23,
   "metadata": {
    "collapsed": false
   },
   "outputs": [],
   "source": [
    "for k, j in product(range(4), range(2)):\n",
    "    kp, lp = CLIFFORD_SX[k, j]\n",
    "    assert (\n",
    "        X**j * S**k -\n",
    "        S**kp * X**j * w**lp\n",
    "    ).norm() <= 1e-8"
   ]
  },
  {
   "cell_type": "markdown",
   "metadata": {},
   "source": [
    "Next, we'll implement the table $(j, k, i) \\mapsto (i', j', k', l')$ such that $X^j S^k E^i = E^{i'} X^{j'} S^{k'} \\omega^{l'}$. This will let us commute $E$ into its proper position."
   ]
  },
  {
   "cell_type": "code",
   "execution_count": 24,
   "metadata": {
    "collapsed": true
   },
   "outputs": [],
   "source": [
    "CLIFFORD_XSE = {\n",
    "    (0, 0, 0): (0,0,0,0),\n",
    "    (0, 0, 1): (1,0,0,0),\n",
    "    (0, 0, 2): (2,0,0,0),\n",
    "    (0, 1, 0): (0,0,1,0),\n",
    "    (0, 1, 1): (2,0,3,6),\n",
    "    (0, 1, 2): (1,1,3,4),\n",
    "    (0, 2, 0): (0,0,2,0),\n",
    "    (0, 2, 1): (1,1,2,2),\n",
    "    (0, 2, 2): (2,1,0,0),\n",
    "    (0, 3, 0): (0,0,3,0),\n",
    "    (0, 3, 1): (2,1,3,6),\n",
    "    (0, 3, 2): (1,0,1,2),\n",
    "    (1, 0, 0): (0,1,0,0),\n",
    "    (1, 0, 1): (1,0,2,0),\n",
    "    (1, 0, 2): (2,1,2,2),\n",
    "    (1, 1, 0): (0,1,1,0),\n",
    "    (1, 1, 1): (2,1,1,0),\n",
    "    (1, 1, 2): (1,1,1,0),\n",
    "    (1, 2, 0): (0,1,2,0),\n",
    "    (1, 2, 1): (1,1,0,6),\n",
    "    (1, 2, 2): (2,0,2,6),\n",
    "    (1, 3, 0): (0,1,3,0),\n",
    "    (1, 3, 1): (2,0,1,4),\n",
    "    (1, 3, 2): (1,0,3,2),\n",
    "}"
   ]
  },
  {
   "cell_type": "code",
   "execution_count": 25,
   "metadata": {
    "collapsed": false
   },
   "outputs": [],
   "source": [
    "for j, k, i in product(range(2), range(4), range(3)):\n",
    "    ip, jp, kp, lp = CLIFFORD_XSE[j, k, i]\n",
    "    assert (\n",
    "        X**j * S**k * E**i -\n",
    "        E**ip * X**jp * S**kp * w**lp\n",
    "    ).norm() <= 1e-8"
   ]
  },
  {
   "cell_type": "markdown",
   "metadata": {},
   "source": [
    "The last table we will need is $(i, j, k) \\mapsto (i', j', k', l')$ such that $(E^i S^j X^k)^{-1} = E^{i'} S^{j'} X^{k'} \\omega^{l'}$. That is, the table that stores the inverse of each Clifford gate with phase $l = 0$."
   ]
  },
  {
   "cell_type": "code",
   "execution_count": 26,
   "metadata": {
    "collapsed": true
   },
   "outputs": [],
   "source": [
    "CLIFFORD_INV = {\n",
    "    (0, 0, 0): (0,0,0,0),\n",
    "    (0, 0, 1): (0,0,3,0),\n",
    "    (0, 0, 2): (0,0,2,0),\n",
    "    (0, 0, 3): (0,0,1,0),\n",
    "    (0, 1, 0): (0,1,0,0),\n",
    "    (0, 1, 1): (0,1,1,6),\n",
    "    (0, 1, 2): (0,1,2,4),\n",
    "    (0, 1, 3): (0,1,3,2),\n",
    "    (1, 0, 0): (2,0,0,0),\n",
    "    (1, 0, 1): (1,0,1,2),\n",
    "    (1, 0, 2): (2,1,0,0),\n",
    "    (1, 0, 3): (1,1,3,4),\n",
    "    (1, 1, 0): (2,1,2,2),\n",
    "    (1, 1, 1): (1,1,1,6),\n",
    "    (1, 1, 2): (2,0,2,2),\n",
    "    (1, 1, 3): (1,0,3,4),\n",
    "    (2, 0, 0): (1,0,0,0),\n",
    "    (2, 0, 1): (2,1,3,6),\n",
    "    (2, 0, 2): (1,1,2,2),\n",
    "    (2, 0, 3): (2,0,3,6),\n",
    "    (2, 1, 0): (1,0,2,0),\n",
    "    (2, 1, 1): (2,1,1,6),\n",
    "    (2, 1, 2): (1,1,0,2),\n",
    "    (2, 1, 3): (2,0,1,6),\n",
    "}"
   ]
  },
  {
   "cell_type": "code",
   "execution_count": 27,
   "metadata": {
    "collapsed": false
   },
   "outputs": [],
   "source": [
    "for i, j, k in product(range(3), range(2), range(4)):\n",
    "    ip, jp, kp, lp = CLIFFORD_INV[i, j, k]\n",
    "    assert (\n",
    "        (E**i * X**j * S**k).dag() -\n",
    "        E**ip * X**jp * S**kp * w**lp\n",
    "    ).norm() <= 1e-8"
   ]
  },
  {
   "cell_type": "markdown",
   "metadata": {},
   "source": [
    "We are now equipped to represent each element of the Ross and Selinger presentation as an instance of a new class ``Clifford``. By overriding ``Clifford.__new__``, we can ensure that exactly one instance is created for each combination of $i$, $j$, $k$ and $l$. This will effectively let us lazily compute the different properties of each gate, making it much faster to sample each sequence."
   ]
  },
  {
   "cell_type": "code",
   "execution_count": 28,
   "metadata": {
    "collapsed": true
   },
   "outputs": [],
   "source": [
    "sup_numerals = u\"⁰¹²³⁴⁵⁶⁷⁸⁹\""
   ]
  },
  {
   "cell_type": "code",
   "execution_count": 29,
   "metadata": {
    "collapsed": false
   },
   "outputs": [],
   "source": [
    "@python_2_unicode_compatible\n",
    "class Clifford(tuple):\n",
    "    \n",
    "    # Maintain a dictionary of which Clifford instances already\n",
    "    # exist, so that __new__ can return such existing instances.\n",
    "    __instances = {}    \n",
    "    \n",
    "    def __new__ (cls, i=0, j=0, k=0, l=0):\n",
    "        if (i, j, k, l) in cls.__instances:\n",
    "            return cls.__instances[i, j, k, l]\n",
    "        else:\n",
    "            new = super(Clifford, cls).__new__(cls, (i % 3, j % 2, k % 4, l % 8))\n",
    "            cls.__instances[i, j, k, l] = new\n",
    "            return new\n",
    "    \n",
    "    # Lazily store the QuTiP representation of each gate.\n",
    "    _Q = None  \n",
    "    \n",
    "    def __mul__(self, other):\n",
    "        \"\"\"\n",
    "        Returns the product of this Clifford gate with another one.\n",
    "        \"\"\"\n",
    "        \n",
    "        # Unpack the powers of E, S, X and omega for each gate.\n",
    "        i1, j1, k1, l1 = self\n",
    "        i2, j2, k2, l2 = other\n",
    "        \n",
    "        # Commute E^i₂ past X^j₁ S^k₁.\n",
    "        i3, j3, k3, l3 = CLIFFORD_XSE[j1, k1, i2]\n",
    "        \n",
    "        # Commute S past X.\n",
    "        k4, l4 = CLIFFORD_SX[k3, j2]\n",
    "        \n",
    "        return Clifford(\n",
    "            i1 + i3,\n",
    "            j3 + j2,\n",
    "            k4 + k2,\n",
    "            # Accumulate the phases we picked up at each step.\n",
    "            l4 + l3 + l1 + l2\n",
    "        )\n",
    "    @property\n",
    "    def inv(self):\n",
    "        (i2, j2, k2, l2) = CLIFFORD_INV[self[0], self[1], self[2]]\n",
    "        return Clifford(\n",
    "            i2, j2, k2, l2 - self[3]\n",
    "        )\n",
    "    \n",
    "    def qobj(self):\n",
    "        if not self._Q:\n",
    "            self._Q = E**self[0] * X**self[1] * S**self[2] * w**self[3]\n",
    "        return self._Q\n",
    "    \n",
    "    # Finally, we'll add some support for pretty-printing.\n",
    "    \n",
    "    def __repr__(self):\n",
    "        return u\"Clifford({0[0]}, {0[1]}, {0[2]}, {0[3]})\".format(self)\n",
    "    \n",
    "    def __str__(self):\n",
    "        if self[3] >= 4:\n",
    "            return u\"-\" + str(Clifford(self[0], self[1], self[2], self[3] % 4))\n",
    "        elif self[3] >= 2:\n",
    "            return u\"i\" + str(Clifford(self[0], self[1], self[2], self[3] % 2))\n",
    "        elif self[3] == 1:\n",
    "            return u\"ω\" + str(Clifford(self[0], self[1], self[2]))\n",
    "        elif self == Clifford(0, 0, 0, 0):\n",
    "            return u\"𝟙\"\n",
    "        else:\n",
    "            return u\"\".join([\n",
    "                u\"{}{}\".format(U, sup_numerals[power] if power > 1 else u\"\")\n",
    "                for U, power in zip(u\"EXS\", self[:3])\n",
    "                if power\n",
    "            ])\n"
   ]
  },
  {
   "cell_type": "code",
   "execution_count": 30,
   "metadata": {
    "collapsed": true
   },
   "outputs": [],
   "source": [
    "clifford_group = [\n",
    "    Clifford(i, j, k, l)\n",
    "    for i, j, k, l in\n",
    "    product(range(3), range(2), range(4), range(8))\n",
    "]"
   ]
  },
  {
   "cell_type": "code",
   "execution_count": 31,
   "metadata": {
    "collapsed": false
   },
   "outputs": [
    {
     "name": "stdout",
     "output_type": "stream",
     "text": [
      "𝟙, ω𝟙, i𝟙, iω𝟙, -𝟙, -ω𝟙, -i𝟙, -iω𝟙, S, ωS, iS, iωS, -S, -ωS, -iS, -iωS, S², ωS², iS², iωS², -S², -ωS², -iS², -iωS², S³, ωS³, iS³, iωS³, -S³, -ωS³, -iS³, -iωS³, X, ωX, iX, iωX, -X, -ωX, -iX, -iωX, XS, ωXS, iXS, iωXS, -XS, -ωXS, -iXS, -iωXS, XS², ωXS², iXS², iωXS², -XS², -ωXS², -iXS², -iωXS², XS³, ωXS³, iXS³, iωXS³, -XS³, -ωXS³, -iXS³, -iωXS³, E, ωE, iE, iωE, -E, -ωE, -iE, -iωE, ES, ωES, iES, iωES, -ES, -ωES, -iES, -iωES, ES², ωES², iES², iωES², -ES², -ωES², -iES², -iωES², ES³, ωES³, iES³, iωES³, -ES³, -ωES³, -iES³, -iωES³, EX, ωEX, iEX, iωEX, -EX, -ωEX, -iEX, -iωEX, EXS, ωEXS, iEXS, iωEXS, -EXS, -ωEXS, -iEXS, -iωEXS, EXS², ωEXS², iEXS², iωEXS², -EXS², -ωEXS², -iEXS², -iωEXS², EXS³, ωEXS³, iEXS³, iωEXS³, -EXS³, -ωEXS³, -iEXS³, -iωEXS³, E², ωE², iE², iωE², -E², -ωE², -iE², -iωE², E²S, ωE²S, iE²S, iωE²S, -E²S, -ωE²S, -iE²S, -iωE²S, E²S², ωE²S², iE²S², iωE²S², -E²S², -ωE²S², -iE²S², -iωE²S², E²S³, ωE²S³, iE²S³, iωE²S³, -E²S³, -ωE²S³, -iE²S³, -iωE²S³, E²X, ωE²X, iE²X, iωE²X, -E²X, -ωE²X, -iE²X, -iωE²X, E²XS, ωE²XS, iE²XS, iωE²XS, -E²XS, -ωE²XS, -iE²XS, -iωE²XS, E²XS², ωE²XS², iE²XS², iωE²XS², -E²XS², -ωE²XS², -iE²XS², -iωE²XS², E²XS³, ωE²XS³, iE²XS³, iωE²XS³, -E²XS³, -ωE²XS³, -iE²XS³, -iωE²XS³\n"
     ]
    }
   ],
   "source": [
    "print(\", \".join(map(str, clifford_group)))"
   ]
  },
  {
   "cell_type": "markdown",
   "metadata": {},
   "source": [
    "Now that we can sample, multiply and invert Clifford gates efficiently, we have everything we need to define *sequences* of Cliffords. We will do so in terms of a gateset that defines the noisy implementation of each Clifford gate. For this example, we will hold to the traditional RB assumptions and the same noise channel $\\Lambda$ after the ideal action of each gate."
   ]
  },
  {
   "cell_type": "code",
   "execution_count": 32,
   "metadata": {
    "collapsed": true
   },
   "outputs": [],
   "source": [
    "gateset = {\n",
    "    gate: lambda_ * qt.to_super(gate.qobj())\n",
    "    for gate in clifford_group\n",
    "}"
   ]
  },
  {
   "cell_type": "markdown",
   "metadata": {},
   "source": [
    "To form a sequence, we pick gates at random from the Clifford group, then append the inverse gate to the end."
   ]
  },
  {
   "cell_type": "code",
   "execution_count": 33,
   "metadata": {
    "collapsed": true
   },
   "outputs": [],
   "source": [
    "def seq(m, gateset):\n",
    "    gates = [clifford_group[idx] for idx in np.random.randint(len(clifford_group), size=m)]\n",
    "    inv_gate = reduce(mul, reversed(gates)).inv\n",
    "    gates = [inv_gate] + list(gates)\n",
    "    return reduce(mul, [\n",
    "        gateset[gate] for gate in reversed(gates)\n",
    "    ])"
   ]
  },
  {
   "cell_type": "code",
   "execution_count": 34,
   "metadata": {
    "collapsed": false
   },
   "outputs": [
    {
     "data": {
      "text/latex": [
       "Quantum object: dims = [[[2], [2]], [[2], [2]]], shape = [4, 4], type = super, isherm = False\\begin{equation*}\\left(\\begin{array}{*{11}c}0.756 & (-0.305-0.302j) & (-0.305+0.302j) & 0.244\\\\(0.352-0.246j) & (0.745+0.129j) & (-0.043+0.240j) & (-0.352+0.246j)\\\\(0.352+0.246j) & (-0.043-0.240j) & (0.745-0.129j) & (-0.352-0.246j)\\\\0.244 & (0.305+0.302j) & (0.305-0.302j) & 0.756\\\\\\end{array}\\right)\\end{equation*}"
      ],
      "text/plain": [
       "Quantum object: dims = [[[2], [2]], [[2], [2]]], shape = [4, 4], type = super, isherm = False\n",
       "Qobj data =\n",
       "[[ 0.75637527+0.j         -0.30459068-0.30248345j -0.30459068+0.30248345j\n",
       "   0.24362473+0.j        ]\n",
       " [ 0.35180016-0.24598449j  0.74524982+0.12925265j -0.04329705+0.23974649j\n",
       "  -0.35180016+0.24598449j]\n",
       " [ 0.35180016+0.24598449j -0.04329705-0.23974649j  0.74524982-0.12925265j\n",
       "  -0.35180016-0.24598449j]\n",
       " [ 0.24362473+0.j          0.30459068+0.30248345j  0.30459068-0.30248345j\n",
       "   0.75637527+0.j        ]]"
      ]
     },
     "execution_count": 34,
     "metadata": {},
     "output_type": "execute_result"
    }
   ],
   "source": [
    "seq(100, gateset)"
   ]
  },
  {
   "cell_type": "code",
   "execution_count": 35,
   "metadata": {
    "collapsed": true
   },
   "outputs": [],
   "source": [
    "def sample_rb_datum(m, gateset, rho, meas):\n",
    "    S = seq(m, gateset)\n",
    "    pr = (\n",
    "        qt.operator_to_vector(meas).dag() * S * qt.operator_to_vector(rho)\n",
    "    )[0, 0]\n",
    "    return 1 if np.random.random() < pr else 0"
   ]
  },
  {
   "cell_type": "code",
   "execution_count": 36,
   "metadata": {
    "collapsed": false
   },
   "outputs": [],
   "source": [
    "counts = np.empty_like(ms)\n",
    "progbar = qi.IPythonProgressBar()\n",
    "progbar.start(ms.sum())\n",
    "progress = 0\n",
    "\n",
    "for idx, m in enumerate(ms):\n",
    "    progbar.description = u'𝑚 = {}...'.format(m)\n",
    "    counts[idx] = sum([\n",
    "        sample_rb_datum(m, gateset, rho, meas)\n",
    "        for _ in range(n_shots)\n",
    "    ])\n",
    "    progress += m\n",
    "    progbar.update(progress)"
   ]
  },
  {
   "cell_type": "code",
   "execution_count": 37,
   "metadata": {
    "collapsed": false
   },
   "outputs": [
    {
     "name": "stdout",
     "output_type": "stream",
     "text": [
      "Estimated p: 0.9911 ± 0.0017\n",
      "Estimated A: 0.4432 ± 0.0261\n",
      "Estimated B: 0.5063 ± 0.0118\n"
     ]
    }
   ],
   "source": [
    "data = np.column_stack([counts, ms, n_shots * np.ones_like(counts)])\n",
    "mean, cov, extra = qi.simple_est_rb(data, return_all=True, n_particles=12000, p_min=0.8)\n",
    "print(\"Estimated p: {:0.4f} ± {:0.4f}\".format(mean[0], np.sqrt(cov[0, 0])))\n",
    "print(\"Estimated A: {:0.4f} ± {:0.4f}\".format(mean[1], np.sqrt(cov[1, 1])))\n",
    "print(\"Estimated B: {:0.4f} ± {:0.4f}\".format(mean[2], np.sqrt(cov[2, 2])))"
   ]
  },
  {
   "cell_type": "markdown",
   "metadata": {},
   "source": [
    "In the Magesan *et al.* model, $A$ and $B$ are defined as\n",
    "\\begin{align*}\n",
    "    A & \\mathrel{:=} \\operatorname{Tr}(E \\Lambda(\\rho - \\mathbb{1} / d)) \\textrm{ and} \\\\\n",
    "    B & \\mathrel{:=} \\operatorname{Tr}(E \\Lambda(\\mathbb{1} / d)),\n",
    "\\end{align*}\n",
    "where $d$ is the dimension of the system (in this case, 2). By using our description of $\\Lambda$, $\\rho$ and $E$, we can calculate these parameters and plot the \"true\" model for our data, along side the data and our reconstruction from the estimated values of $p$, $A$ and $B$."
   ]
  },
  {
   "cell_type": "code",
   "execution_count": 38,
   "metadata": {
    "collapsed": true
   },
   "outputs": [],
   "source": [
    "A = (qt.operator_to_vector(meas).dag() * lambda_ * qt.operator_to_vector(rho - qt.qeye(2) / 2))[0, 0]\n",
    "B = (qt.operator_to_vector(meas).dag() * lambda_ * qt.operator_to_vector(qt.qeye(2) / 2))[0, 0]"
   ]
  },
  {
   "cell_type": "code",
   "execution_count": 39,
   "metadata": {
    "collapsed": false
   },
   "outputs": [
    {
     "name": "stderr",
     "output_type": "stream",
     "text": [
      "/home/cgranade/anaconda/envs/qinfer-binder/lib/python3.5/site-packages/numpy/core/numeric.py:482: ComplexWarning: Casting complex values to real discards the imaginary part\n",
      "  return array(a, dtype, copy=False, order=order)\n"
     ]
    },
    {
     "data": {
      "text/plain": [
       "<matplotlib.legend.Legend at 0x7fa6a476eb70>"
      ]
     },
     "execution_count": 39,
     "metadata": {},
     "output_type": "execute_result"
    },
    {
     "data": {
      "image/png": "[encoded data removed]",
      "text/plain": [
       "<matplotlib.figure.Figure at 0x7fa6a4956198>"
      ]
     },
     "metadata": {},
     "output_type": "display_data"
    }
   ],
   "source": [
    "plt.plot(ms, A + B * qi.rb.p(qt.average_gate_fidelity(lambda_)) ** ms, label='True Model')\n",
    "plt.plot(ms, counts / n_shots, 'x', label='Data')\n",
    "plt.plot(ms, mean[2] + mean[1] * mean[0] ** ms, label='Estimated Model')\n",
    "plt.legend()"
   ]
  },
  {
   "cell_type": "code",
   "execution_count": 40,
   "metadata": {
    "collapsed": false
   },
   "outputs": [
    {
     "name": "stderr",
     "output_type": "stream",
     "text": [
      "/home/cgranade/anaconda/envs/qinfer-binder/lib/python3.5/site-packages/numpy/core/numeric.py:482: ComplexWarning: Casting complex values to real discards the imaginary part\n",
      "  return array(a, dtype, copy=False, order=order)\n"
     ]
    },
    {
     "data": {
      "text/plain": [
       "<matplotlib.legend.Legend at 0x7fa6a46aa358>"
      ]
     },
     "execution_count": 40,
     "metadata": {},
     "output_type": "execute_result"
    },
    {
     "data": {
      "image/png": "[encoded data removed]",
      "text/plain": [
       "<matplotlib.figure.Figure at 0x7fa6a4746198>"
      ]
     },
     "metadata": {},
     "output_type": "display_data"
    }
   ],
   "source": [
    "plt.semilogy(ms, B * qi.rb.p(qt.average_gate_fidelity(lambda_)) ** ms, label='True Model')\n",
    "# plt.plot(ms, (counts / n_shots) - mean[1], 'x', label='Data')\n",
    "plt.semilogy(ms, mean[1] * mean[0] ** ms, label='Estimated Model')\n",
    "plt.legend()"
   ]
  },
  {
   "cell_type": "code",
   "execution_count": 41,
   "metadata": {
    "collapsed": false
   },
   "outputs": [
    {
     "data": {
      "image/png": "[encoded data removed]",
      "text/plain": [
       "<matplotlib.figure.Figure at 0x7fa6a4667cc0>"
      ]
     },
     "metadata": {},
     "output_type": "display_data"
    }
   ],
   "source": [
    "extra['updater'].plot_posterior_marginal(range_max=1)\n",
    "plt.xlim(xmax=1)\n",
    "ylim = plt.ylim(ymin=0)\n",
    "plt.vlines(qi.rb.p(qt.average_gate_fidelity(lambda_)), *ylim)\n",
    "plt.ylim(*ylim);"
   ]
  },
  {
   "cell_type": "markdown",
   "metadata": {},
   "source": [
    "We can also look at the posterior marginal distributions over each of $A$ and $B$."
   ]
  },
  {
   "cell_type": "code",
   "execution_count": 42,
   "metadata": {
    "collapsed": false
   },
   "outputs": [
    {
     "name": "stderr",
     "output_type": "stream",
     "text": [
      "/home/cgranade/anaconda/envs/qinfer-binder/lib/python3.5/site-packages/numpy/core/numeric.py:482: ComplexWarning: Casting complex values to real discards the imaginary part\n",
      "  return array(a, dtype, copy=False, order=order)\n"
     ]
    },
    {
     "data": {
      "image/png": "[encoded data removed]",
      "text/plain": [
       "<matplotlib.figure.Figure at 0x7fa6a48fd940>"
      ]
     },
     "metadata": {},
     "output_type": "display_data"
    }
   ],
   "source": [
    "plt.figure(figsize=(12, 4))\n",
    "plt.subplot(1, 2, 1)\n",
    "extra['updater'].plot_posterior_marginal(idx_param=1)\n",
    "ylim = plt.ylim(ymin=0)\n",
    "plt.vlines(A, *ylim)\n",
    "plt.ylim(*ylim);\n",
    "\n",
    "plt.subplot(1, 2, 2)\n",
    "extra['updater'].plot_posterior_marginal(idx_param=2)\n",
    "ylim = plt.ylim(ymin=0)\n",
    "plt.vlines(B, *ylim)\n",
    "plt.ylim(*ylim);"
   ]
  },
  {
   "cell_type": "markdown",
   "metadata": {},
   "source": [
    "Finally, we can plot the covariance matrix for all three parameters, showing how our uncertianty about each of the parameters $p$, $A$ and $B$ are correlated. We do so as a [Hinton diagram](http://tonysyu.github.io/mpltools/auto_examples/special/plot_hinton.html), in which each positive element is plotted as a white square while each negative element is plotted as a black square. The respective sizes of each element show their magnitudes. That we see a large black square in the $(A, B)$ and $(B, A)$ matrix elements tells us that the estimates of $A$ and $B$ are strongly anti-correlated, such that learning about one tells us a lot about the other."
   ]
  },
  {
   "cell_type": "code",
   "execution_count": 43,
   "metadata": {
    "collapsed": false
   },
   "outputs": [
    {
     "data": {
      "image/png": "[encoded data removed]",
      "text/plain": [
       "<matplotlib.figure.Figure at 0x7fa6a44cef98>"
      ]
     },
     "metadata": {},
     "output_type": "display_data"
    }
   ],
   "source": [
    "extra['updater'].plot_covariance()"
   ]
  },
  {
   "cell_type": "markdown",
   "metadata": {},
   "source": [
    "This becomes more obvious if we plot the correlation matrix instead, where each matrix element is rescaled as $\\operatorname{Corr}(X, Y) = \\operatorname{Cov}(X, Y) / \\sqrt{\\operatorname{Cov}(X, X) \\operatorname{Cov}(Y, Y)}$."
   ]
  },
  {
   "cell_type": "code",
   "execution_count": 44,
   "metadata": {
    "collapsed": false
   },
   "outputs": [
    {
     "data": {
      "image/png": "[encoded data removed]",
      "text/plain": [
       "<matplotlib.figure.Figure at 0x7fa6a46f1390>"
      ]
     },
     "metadata": {},
     "output_type": "display_data"
    }
   ],
   "source": [
    "extra['updater'].plot_covariance(corr=True)"
   ]
  },
  {
   "cell_type": "markdown",
   "metadata": {},
   "source": [
    "This shows that improving our knowledge of $B$ can have a large impact on our uncertianty in $p$."
   ]
  },
  {
   "cell_type": "markdown",
   "metadata": {
    "collapsed": true
   },
   "source": [
    "## Custom Priors and Updater Loop ##"
   ]
  },
  {
   "cell_type": "markdown",
   "metadata": {},
   "source": [
    "We can exploit this by providing a prior distribution that is relatively certain about the values of $A$ and $B$. Such a prior can be justified, for instance, by other experiments that demonstrate high-fidelity measurements. In this example, we will assume a prior distribution over $A$ and $B$ that is narrowly centered around the true values to demonstrate the utility of prior information.\n",
    "\n",
    "Instead of using ``simple_est_rb``, we'll use ``RandomizedBenchmarkingModel`` directly, and then wrapping this model with a ``BinomialModel`` to describe multiple shots."
   ]
  },
  {
   "cell_type": "code",
   "execution_count": 45,
   "metadata": {
    "collapsed": true
   },
   "outputs": [],
   "source": [
    "model = qi.BinomialModel(qi.RandomizedBenchmarkingModel())"
   ]
  },
  {
   "cell_type": "markdown",
   "metadata": {},
   "source": [
    "We can then use ``PostselectedDistribution`` to ensure that our prior is always valid for randomized benchmarking."
   ]
  },
  {
   "cell_type": "code",
   "execution_count": 46,
   "metadata": {
    "collapsed": false
   },
   "outputs": [],
   "source": [
    "prior = qi.PostselectedDistribution(\n",
    "    qi.ProductDistribution(\n",
    "        qi.UniformDistribution([0.8, 1]),\n",
    "        qi.MultivariateNormalDistribution(\n",
    "            np.array([0.498, 0.499]),\n",
    "            np.diag([0.004, 0.002]) ** 2\n",
    "        )\n",
    "    ),\n",
    "    model\n",
    ")"
   ]
  },
  {
   "cell_type": "markdown",
   "metadata": {},
   "source": [
    "Next, we'll set up an updater to consume the data we simulated in the previous section."
   ]
  },
  {
   "cell_type": "code",
   "execution_count": 47,
   "metadata": {
    "collapsed": true
   },
   "outputs": [],
   "source": [
    "updater = qi.smc.SMCUpdater(model, 12000, prior)"
   ]
  },
  {
   "cell_type": "markdown",
   "metadata": {},
   "source": [
    "We then setup arrays to hold our outcomes and our experiment parameters."
   ]
  },
  {
   "cell_type": "code",
   "execution_count": 48,
   "metadata": {
    "collapsed": false
   },
   "outputs": [],
   "source": [
    "outcomes = np.array(counts, dtype='uint')[:, np.newaxis]\n",
    "expparams = np.empty(outcomes.shape, dtype=model.expparams_dtype)\n",
    "expparams['n_meas'] = n_shots\n",
    "expparams['m'][:, 0] = ms"
   ]
  },
  {
   "cell_type": "markdown",
   "metadata": {},
   "source": [
    "Finally, we can update our prior with the data to find the posterior distribution."
   ]
  },
  {
   "cell_type": "code",
   "execution_count": 49,
   "metadata": {
    "collapsed": false
   },
   "outputs": [],
   "source": [
    "for outcome, experiment in zip(outcomes, expparams):\n",
    "    updater.update(outcome, experiment)"
   ]
  },
  {
   "cell_type": "code",
   "execution_count": 50,
   "metadata": {
    "collapsed": true
   },
   "outputs": [],
   "source": [
    "mean = updater.est_mean()\n",
    "cov = updater.est_covariance_mtx()"
   ]
  },
  {
   "cell_type": "code",
   "execution_count": 51,
   "metadata": {
    "collapsed": false
   },
   "outputs": [
    {
     "name": "stdout",
     "output_type": "stream",
     "text": [
      "Estimated p: 0.9916 ± 0.0006\n",
      "Estimated A: 0.4950 ± 0.0031\n",
      "Estimated B: 0.4987 ± 0.0019\n"
     ]
    }
   ],
   "source": [
    "print(\"Estimated p: {:0.4f} ± {:0.4f}\".format(mean[0], np.sqrt(cov[0, 0])))\n",
    "print(\"Estimated A: {:0.4f} ± {:0.4f}\".format(mean[1], np.sqrt(cov[1, 1])))\n",
    "print(\"Estimated B: {:0.4f} ± {:0.4f}\".format(mean[2], np.sqrt(cov[2, 2])))"
   ]
  },
  {
   "cell_type": "code",
   "execution_count": 52,
   "metadata": {
    "collapsed": false
   },
   "outputs": [
    {
     "name": "stderr",
     "output_type": "stream",
     "text": [
      "/home/cgranade/anaconda/envs/qinfer-binder/lib/python3.5/site-packages/numpy/core/numeric.py:482: ComplexWarning: Casting complex values to real discards the imaginary part\n",
      "  return array(a, dtype, copy=False, order=order)\n"
     ]
    },
    {
     "data": {
      "text/plain": [
       "<matplotlib.legend.Legend at 0x7fa6a44f7ac8>"
      ]
     },
     "execution_count": 52,
     "metadata": {},
     "output_type": "execute_result"
    },
    {
     "data": {
      "image/png": "[encoded data removed]",
      "text/plain": [
       "<matplotlib.figure.Figure at 0x7fa6a44c82b0>"
      ]
     },
     "metadata": {},
     "output_type": "display_data"
    }
   ],
   "source": [
    "plt.plot(ms, A + B * qi.rb.p(qt.average_gate_fidelity(lambda_)) ** ms, label='True Model')\n",
    "plt.plot(ms, counts / n_shots, 'x', label='Data')\n",
    "plt.plot(ms, mean[2] + mean[1] * mean[0] ** ms, label='Estimated Model')\n",
    "plt.legend()"
   ]
  },
  {
   "cell_type": "code",
   "execution_count": 53,
   "metadata": {
    "collapsed": false
   },
   "outputs": [
    {
     "name": "stderr",
     "output_type": "stream",
     "text": [
      "/home/cgranade/anaconda/envs/qinfer-binder/lib/python3.5/site-packages/numpy/core/numeric.py:482: ComplexWarning: Casting complex values to real discards the imaginary part\n",
      "  return array(a, dtype, copy=False, order=order)\n"
     ]
    },
    {
     "data": {
      "image/png": "[encoded data removed]",
      "text/plain": [
       "<matplotlib.figure.Figure at 0x7fa6a43f2d68>"
      ]
     },
     "metadata": {},
     "output_type": "display_data"
    }
   ],
   "source": [
    "plt.figure(figsize=(18, 4))\n",
    "plt.subplot(1, 3, 1)\n",
    "extra['updater'].plot_posterior_marginal(idx_param=0)\n",
    "ylim = plt.ylim(ymin=0)\n",
    "plt.vlines(qi.rb.p(qt.average_gate_fidelity(lambda_)), *ylim)\n",
    "plt.ylim(*ylim);\n",
    "\n",
    "\n",
    "plt.subplot(1, 3, 2)\n",
    "extra['updater'].plot_posterior_marginal(idx_param=1)\n",
    "ylim = plt.ylim(ymin=0)\n",
    "plt.vlines(A, *ylim)\n",
    "plt.ylim(*ylim);\n",
    "\n",
    "plt.subplot(1, 3, 3)\n",
    "extra['updater'].plot_posterior_marginal(idx_param=2)\n",
    "ylim = plt.ylim(ymin=0)\n",
    "plt.vlines(B, *ylim)\n",
    "plt.ylim(*ylim);"
   ]
  },
  {
   "cell_type": "code",
   "execution_count": 54,
   "metadata": {
    "collapsed": false
   },
   "outputs": [
    {
     "data": {
      "image/png": "[encoded data removed]",
      "text/plain": [
       "<matplotlib.figure.Figure at 0x7fa6a4500080>"
      ]
     },
     "metadata": {},
     "output_type": "display_data"
    }
   ],
   "source": [
    "plt.subplot(1, 2, 1)\n",
    "updater.plot_covariance()\n",
    "\n",
    "plt.subplot(1, 2, 2)\n",
    "updater.plot_covariance(corr=True)"
   ]
  },
  {
   "cell_type": "code",
   "execution_count": null,
   "metadata": {
    "collapsed": true
   },
   "outputs": [],
   "source": []
  }
 ],
 "metadata": {
  "kernelspec": {
   "display_name": "Python 3",
   "language": "python",
   "name": "python3"
  },
  "language_info": {
   "codemirror_mode": {
    "name": "ipython",
    "version": 3
   },
   "file_extension": ".py",
   "mimetype": "text/x-python",
   "name": "python",
   "nbconvert_exporter": "python",
   "pygments_lexer": "ipython3",
   "version": "3.5.1"
  },
  "widgets": {
   "state": {
    "2653fdeffff44239a6f4d648d760a848": {
     "views": []
    },
    "2aa33dc93c1f4d45a70b06d26f8e90c9": {
     "views": []
    },
    "32a674f47af142aeb8dcb958f60a56df": {
     "views": []
    },
    "51aaf408951149f9b28a82874c30832c": {
     "views": []
    },
    "56ef519037cb4465bdadda75831cd233": {
     "views": [
      {
       "cell_index": 61
      }
     ]
    },
    "8da704a48c304af787dd0ecf4b840475": {
     "views": []
    },
    "93c5336e127641838814eec76adc5e38": {
     "views": []
    },
    "b7327a25159743c7a317cb522313dee6": {
     "views": []
    },
    "e9f0dcb9c9a24b7fb8020e085855f067": {
     "views": []
    },
    "f05e60aca97649f1814044438c6b59a3": {
     "views": []
    }
   },
   "version": "1.1.1"
  }
 },
 "nbformat": 4,
 "nbformat_minor": 0
}
