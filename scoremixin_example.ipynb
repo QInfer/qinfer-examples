{
 "metadata": {
  "name": ""
 },
 "nbformat": 3,
 "nbformat_minor": 0,
 "worksheets": [
  {
   "cells": [
    {
     "cell_type": "heading",
     "level": 1,
     "metadata": {},
     "source": [
      "Fisher Score Mixin Example"
     ]
    },
    {
     "cell_type": "markdown",
     "metadata": {},
     "source": [
      "This notebook demonstrates how to use the ``qinfer.ScoreMixin`` class to develop models that use numerical differentiation to calculate the Fisher information. We test the mixin class with two examples where the Fisher information is known analytically."
     ]
    },
    {
     "cell_type": "heading",
     "level": 2,
     "metadata": {},
     "source": [
      "Preamble"
     ]
    },
    {
     "cell_type": "code",
     "collapsed": false,
     "input": [
      "from __future__ import division"
     ],
     "language": "python",
     "metadata": {},
     "outputs": [],
     "prompt_number": 1
    },
    {
     "cell_type": "code",
     "collapsed": false,
     "input": [
      "%pylab inline"
     ],
     "language": "python",
     "metadata": {},
     "outputs": [
      {
       "output_type": "stream",
       "stream": "stdout",
       "text": [
        "Populating the interactive namespace from numpy and matplotlib\n"
       ]
      }
     ],
     "prompt_number": 2
    },
    {
     "cell_type": "code",
     "collapsed": false,
     "input": [
      "from qinfer import ScoreMixin, SimplePrecessionModel, RandomizedBenchmarkingModel\n",
      "import numpy as np"
     ],
     "language": "python",
     "metadata": {},
     "outputs": [],
     "prompt_number": 3
    },
    {
     "cell_type": "code",
     "collapsed": false,
     "input": [
      "try:\n",
      "    from mpltools import style\n",
      "    style.use('ggplot')\n",
      "except:\n",
      "    pass"
     ],
     "language": "python",
     "metadata": {},
     "outputs": [],
     "prompt_number": 4
    },
    {
     "cell_type": "heading",
     "level": 2,
     "metadata": {},
     "source": [
      "Simple Precession Model Test"
     ]
    },
    {
     "cell_type": "markdown",
     "metadata": {},
     "source": [
      "Create two models, one that uses ScoreMixin's numerical ``score`` method, and one that uses ``SimplePrecessionModel``'s analytic ``score`` method. To make the first model, we declare a class that does nothing but inherits from both the ``ScoreMixin`` class and ``SimplePrecessionModel``; note that ``ScoreMixin`` is first, such that its implementation of ``Model.score()`` overrides that of ``SimplePrecessionModel``."
     ]
    },
    {
     "cell_type": "code",
     "collapsed": false,
     "input": [
      "class NumericalSimplePrecessionModel(ScoreMixin, SimplePrecessionModel):\n",
      "    pass\n",
      "\n",
      "analytic_model = SimplePrecessionModel()\n",
      "numerical_model = NumericalSimplePrecessionModel()\n",
      "\n",
      "expparams = np.linspace(1, 10, 50)\n",
      "modelparams = np.linspace(.1,1,50)[:, np.newaxis]"
     ],
     "language": "python",
     "metadata": {},
     "outputs": [],
     "prompt_number": 5
    },
    {
     "cell_type": "markdown",
     "metadata": {},
     "source": [
      "We verify that both models compute the same score by plotting the score for a range of experiment and model parameters. Since this is a single-parameter model, the score is a scalar."
     ]
    },
    {
     "cell_type": "code",
     "collapsed": false,
     "input": [
      "analytic_score = analytic_model.score(np.array([0],dtype=int),modelparams, expparams)[0,0,...]\n",
      "print analytic_score.shape\n",
      "numerical_score = numerical_model.score(np.array([0],dtype=int),modelparams, expparams)[0,0,...]\n",
      "print numerical_score.shape\n",
      "\n",
      "plt.subplot(1,2,1)\n",
      "plt.imshow(analytic_score)\n",
      "plt.subplot(1,2,2)\n",
      "plt.imshow(numerical_score)"
     ],
     "language": "python",
     "metadata": {},
     "outputs": [
      {
       "output_type": "stream",
       "stream": "stdout",
       "text": [
        "(50, 50)\n",
        "(50, 50)\n"
       ]
      },
      {
       "metadata": {},
       "output_type": "pyout",
       "prompt_number": 6,
       "text": [
        "<matplotlib.image.AxesImage at 0x451f8d0>"
       ]
      },
      {
       "metadata": {},
       "output_type": "display_data",
       "png": "[encoded data removed]",
       "text": [
        "<matplotlib.figure.Figure at 0x4532d90>"
       ]
      }
     ],
     "prompt_number": 6
    },
    {
     "cell_type": "markdown",
     "metadata": {},
     "source": [
      "Next, we verify that both models give the same Fisher information."
     ]
    },
    {
     "cell_type": "code",
     "collapsed": false,
     "input": [
      "analytic_fisher_info = analytic_model.fisher_information(modelparams, expparams)[0,0,...]\n",
      "numerical_fisher_info = numerical_model.fisher_information(modelparams, expparams)[0,0,...]\n",
      "\n",
      "plt.subplot(1,2,1)\n",
      "plt.imshow(analytic_fisher_info)\n",
      "plt.subplot(1,2,2)\n",
      "plt.imshow(numerical_fisher_info)"
     ],
     "language": "python",
     "metadata": {},
     "outputs": [
      {
       "metadata": {},
       "output_type": "pyout",
       "prompt_number": 7,
       "text": [
        "<matplotlib.image.AxesImage at 0x4791d10>"
       ]
      },
      {
       "metadata": {},
       "output_type": "display_data",
       "png": "[encoded data removed]",
       "text": [
        "<matplotlib.figure.Figure at 0x476ccd0>"
       ]
      }
     ],
     "prompt_number": 7
    },
    {
     "cell_type": "heading",
     "level": 2,
     "metadata": {},
     "source": [
      "Randomized Benchmarking Model"
     ]
    },
    {
     "cell_type": "markdown",
     "metadata": {},
     "source": [
      "To test that we get multiparameter Fisher information calculations correct as well, we compare to the zeroth-order non-interlaced randomized benchmarking model."
     ]
    },
    {
     "cell_type": "code",
     "collapsed": false,
     "input": [
      "class NumericalRandomizedBenchmarkingModel(ScoreMixin, RandomizedBenchmarkingModel):\n",
      "    pass\n",
      "\n",
      "analytic_model = RandomizedBenchmarkingModel()\n",
      "numerical_model = NumericalRandomizedBenchmarkingModel()"
     ],
     "language": "python",
     "metadata": {},
     "outputs": [],
     "prompt_number": 8
    },
    {
     "cell_type": "markdown",
     "metadata": {},
     "source": [
      "We now make experiment and parameters to test with."
     ]
    },
    {
     "cell_type": "code",
     "collapsed": false,
     "input": [
      "expparams = np.empty((150,), dtype=analytic_model.expparams_dtype)\n",
      "expparams['m'] = np.arange(1, 151)\n",
      "\n",
      "modelparams = np.empty((500, 3))\n",
      "modelparams[:, 0] = np.linspace(0.1, 0.999, 500)\n",
      "modelparams[:, 1] = 0.5\n",
      "modelparams[:, 2] = 0.5"
     ],
     "language": "python",
     "metadata": {},
     "outputs": [],
     "prompt_number": 99
    },
    {
     "cell_type": "markdown",
     "metadata": {},
     "source": [
      "Let's make sure that the returned Fisher information has the right shape. Note that the Fisher information is a four-index tensor here, with the two indices for the information matrix itself, plus two indices that vary over the input model parameters and experiment parameters."
     ]
    },
    {
     "cell_type": "code",
     "collapsed": false,
     "input": [
      "afi = analytic_model.fisher_information(modelparams, expparams)\n",
      "assert afi.shape == (3, 3, modelparams.shape[0], expparams.shape[0])\n",
      "nfi = numerical_model.fisher_information(modelparams, expparams)\n",
      "assert nfi.shape == (3, 3, modelparams.shape[0], expparams.shape[0])"
     ],
     "language": "python",
     "metadata": {},
     "outputs": [],
     "prompt_number": 100
    },
    {
     "cell_type": "markdown",
     "metadata": {},
     "source": [
      "We check that each Fisher information matrix has errors that are small compared to the analytic FI alone."
     ]
    },
    {
     "cell_type": "code",
     "collapsed": false,
     "input": [
      "norm(afi - nfi) / norm(afi)"
     ],
     "language": "python",
     "metadata": {},
     "outputs": [
      {
       "metadata": {},
       "output_type": "pyout",
       "prompt_number": 101,
       "text": [
        "1.662610344524985e-07"
       ]
      }
     ],
     "prompt_number": 101
    },
    {
     "cell_type": "markdown",
     "metadata": {},
     "source": [
      "Next, we plot the trace-inverse of each to check that we get the same Cramer-Rao bounds."
     ]
    },
    {
     "cell_type": "code",
     "collapsed": false,
     "input": [
      "def tr_inv(arr):\n",
      "    try:\n",
      "        return trace(inv(arr.reshape(3, 3)))\n",
      "    except LinAlgError:\n",
      "        return float('inf')"
     ],
     "language": "python",
     "metadata": {},
     "outputs": [],
     "prompt_number": 102
    },
    {
     "cell_type": "code",
     "collapsed": false,
     "input": [
      "def crb(fi):\n",
      "    return apply_along_axis(tr_inv, 0, np.sum(fi.reshape((9, modelparams.shape[0], expparams.shape[0])), axis=-1))"
     ],
     "language": "python",
     "metadata": {},
     "outputs": [],
     "prompt_number": 104
    },
    {
     "cell_type": "code",
     "collapsed": false,
     "input": [
      "figure(figsize=(15, 6))\n",
      "for idx, fi in enumerate([afi, nfi]):\n",
      "    subplot(1,2, 1 + idx)\n",
      "    semilogy(modelparams[:, 0], crb(fi))\n",
      "    ylabel(r'$\\operatorname{Tr}\\left(\\left(\\sum_m F(p, m)\\right)^{-1}\\right)$')\n",
      "    xlabel('$p$')"
     ],
     "language": "python",
     "metadata": {},
     "outputs": [
      {
       "metadata": {},
       "output_type": "display_data",
       "png": "[encoded data removed]",
       "text": [
        "<matplotlib.figure.Figure at 0x733fb90>"
       ]
      }
     ],
     "prompt_number": 105
    },
    {
     "cell_type": "markdown",
     "metadata": {},
     "source": [
      "Finally, we note that the numerical FI calculations are not much slower than the analytic calculations."
     ]
    },
    {
     "cell_type": "code",
     "collapsed": false,
     "input": [
      "%timeit analytic_model.fisher_information(modelparams, expparams)\n",
      "%timeit numerical_model.fisher_information(modelparams, expparams)"
     ],
     "language": "python",
     "metadata": {},
     "outputs": [
      {
       "output_type": "stream",
       "stream": "stdout",
       "text": [
        "10 loops, best of 3: 29.7 ms per loop\n",
        "10 loops, best of 3: 60.9 ms per loop"
       ]
      },
      {
       "output_type": "stream",
       "stream": "stdout",
       "text": [
        "\n"
       ]
      }
     ],
     "prompt_number": 106
    },
    {
     "cell_type": "code",
     "collapsed": false,
     "input": [],
     "language": "python",
     "metadata": {},
     "outputs": []
    }
   ],
   "metadata": {}
  }
 ]
}